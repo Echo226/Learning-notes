{
 "cells": [
  {
   "cell_type": "markdown",
   "metadata": {},
   "source": [
    "# 赋值 浅拷贝 深拷贝\n",
    "- 直接赋值 b = a ：b和a为同一对象\n",
    "- 浅拷贝 d = copy.copy(a)：d和a不是同一对象 但是子对象的内存地址一样(指向同一内存地址)\n",
    "- 深拷贝 e = copy.deepcopy(a)：e和a不是同一对象 子对象的内存地址也不一样 二者完全独立"
   ]
  },
  {
   "cell_type": "code",
   "execution_count": 48,
   "metadata": {},
   "outputs": [],
   "source": [
    "import copy"
   ]
  },
  {
   "cell_type": "code",
   "execution_count": 54,
   "metadata": {},
   "outputs": [],
   "source": [
    "a = ['origin', [1, 2, 3]]\n",
    "\n",
    "b = a                   # assignment     赋值\n",
    "c = a[:]                # shallow copy 浅拷贝\n",
    "d = copy.copy(a)        # shallow copy 浅拷贝\n",
    "e = copy.deepcopy(a)    # deep copy    深拷贝"
   ]
  },
  {
   "cell_type": "markdown",
   "metadata": {},
   "source": [
    "### 修改a 输出各对象内存地址\n",
    "#### ❤️修改不可变对象(str)时需要开辟新内存\n",
    "- a[0] = 'changed' 修改完以后, 可以看出a[0]的内存地址从'4347934680'变成了'4364706008'\n",
    "    - b直接赋值 内存地址跟这变 所以b[0]也变成了'changed'\n",
    "    - c&d浅拷贝 内存地址仍然指向最初的内存地址 因此c[0]和d[0]仍然是'origin'\n",
    "    - e深拷贝 我的理解是 深拷贝本该指向不同的内存地址, 而id(e[0]) == id(a[0])可能是因为 这是不可变对象 如果后面要修改a[0]时会开辟新内存 开辟了以后 e[0]和a[0]二者的内存地址就不一样了, 所以 当对象为不可变对象时 深拷贝得到的对象可以与原对象指向同一个内存地址\n",
    "\n",
    "#### ❤️修改可变对象(list)时不需要开辟新内存\n",
    "- a[1].append(4)修改完以后, 可以看出a[1]的内存地址仍是原来的'4384926984'\n",
    "    - b直接赋值 因为内存地址一样 而原地址被修改了 所以b[1]也会变化\n",
    "    - c&d浅拷贝 因为内存地址一样 而原地址被修改了 所以c[1]和d[1]也会变化\n",
    "    - e深拷贝 因为内存地址不一样 因此不会受到影响\n",
    "        \n",
    "#### ❤️对a进行append操作 开辟新内存地址\n",
    "- a.append(5)修改完以后, 可以看出a[2]处多了一个内存地址'4346443312'\n",
    "    - b直接赋值 b[2]处同样多了一个内存地址'4346443312'\n",
    "    - c&d浅拷贝 不会受到新开辟内存地址的影响\n",
    "    - e深拷贝 不会受到新开辟内存地址的影响"
   ]
  },
  {
   "cell_type": "code",
   "execution_count": 55,
   "metadata": {},
   "outputs": [
    {
     "name": "stdout",
     "output_type": "stream",
     "text": [
      "修改前内存地址\n",
      "a's address:  [4347934680, 4384927048]\n",
      "b's address:  [4347934680, 4384927048]\n",
      "c's address:  [4347934680, 4384927048]\n",
      "d's address:  [4347934680, 4384927048]\n",
      "e's address:  [4347934680, 4385060552]\n",
      "修改后内存地址\n",
      "a's address:  [4364706008, 4384927048, 4346443312]\n",
      "b's address:  [4364706008, 4384927048, 4346443312]\n",
      "c's address:  [4347934680, 4384927048]\n",
      "d's address:  [4347934680, 4384927048]\n",
      "e's address:  [4347934680, 4385060552]\n"
     ]
    }
   ],
   "source": [
    "print('修改前内存地址')\n",
    "print(\"a's address: \", [id(x) for x in a])\n",
    "print(\"b's address: \", [id(x) for x in b])\n",
    "print(\"c's address: \", [id(x) for x in c])\n",
    "print(\"d's address: \", [id(x) for x in d])\n",
    "print(\"e's address: \", [id(x) for x in e])\n",
    "\n",
    "a[0] = 'changed'\n",
    "a[1].append(4)\n",
    "a.append(5)\n",
    "\n",
    "print('修改后内存地址')\n",
    "print(\"a's address: \", [id(x) for x in a])\n",
    "print(\"b's address: \", [id(x) for x in b])\n",
    "print(\"c's address: \", [id(x) for x in c])\n",
    "print(\"d's address: \", [id(x) for x in d])\n",
    "print(\"e's address: \", [id(x) for x in e])"
   ]
  },
  {
   "cell_type": "code",
   "execution_count": 56,
   "metadata": {},
   "outputs": [
    {
     "name": "stdout",
     "output_type": "stream",
     "text": [
      "a                       ['changed', [1, 2, 3, 4], 5]\n",
      "b = a                   ['changed', [1, 2, 3, 4], 5]\n",
      "c = a[:]                ['origin', [1, 2, 3, 4]]\n",
      "d = copy.copy(a)        ['origin', [1, 2, 3, 4]]\n",
      "e = copy.deepcopy(a)    ['origin', [1, 2, 3]]\n"
     ]
    }
   ],
   "source": [
    "print('a                      ', a)\n",
    "print('b = a                  ', b)\n",
    "print('c = a[:]               ', c)\n",
    "print('d = copy.copy(a)       ', d)\n",
    "print('e = copy.deepcopy(a)   ', e)"
   ]
  },
  {
   "cell_type": "code",
   "execution_count": 57,
   "metadata": {},
   "outputs": [
    {
     "name": "stdout",
     "output_type": "stream",
     "text": [
      "4384787016\n",
      "4384787016\n",
      "4384786824\n",
      "4385027272\n",
      "4385028936\n"
     ]
    }
   ],
   "source": [
    "print(id(a))\n",
    "print(id(b))\n",
    "print(id(c))\n",
    "print(id(d))\n",
    "print(id(e))"
   ]
  },
  {
   "cell_type": "markdown",
   "metadata": {},
   "source": [
    "### References:\n",
    "- [原理: 底层的栈内存和堆内存 ](https://juejin.im/post/5b5dcf8351882519790c9a2e)\n",
    "- [图解: 各对象和子对象之间的关系](https://www.runoob.com/w3cnote/python-understanding-dict-copy-shallow-or-deep.html)"
   ]
  },
  {
   "cell_type": "code",
   "execution_count": null,
   "metadata": {},
   "outputs": [],
   "source": []
  }
 ],
 "metadata": {
  "kernelspec": {
   "display_name": "Python 3",
   "language": "python",
   "name": "python3"
  },
  "language_info": {
   "codemirror_mode": {
    "name": "ipython",
    "version": 3
   },
   "file_extension": ".py",
   "mimetype": "text/x-python",
   "name": "python",
   "nbconvert_exporter": "python",
   "pygments_lexer": "ipython3",
   "version": "3.6.8"
  }
 },
 "nbformat": 4,
 "nbformat_minor": 2
}
